{
 "cells": [
  {
   "cell_type": "code",
   "execution_count": 451,
   "metadata": {},
   "outputs": [],
   "source": [
    "from selenium import webdriver\n",
    "from selenium.webdriver.common.by import By\n",
    "from selenium.webdriver.common.keys import Keys\n",
    "from selenium.webdriver.support.ui import WebDriverWait\n",
    "from selenium.webdriver.support import expected_conditions as EC\n",
    "import time\n",
    "import os\n",
    "\n",
    "# Set up the driver\n",
    "os.environ['PATH'] += r'C:\\Selenium drivers\\chromedriver-win64\\chromedriver-win64'\n",
    "\n",
    "driver = webdriver.Chrome()"
   ]
  },
  {
   "cell_type": "code",
   "execution_count": 452,
   "metadata": {},
   "outputs": [],
   "source": [
    "driver.get('https://www.nseindia.com/companies-listing/corporate-filings-financial-results')"
   ]
  },
  {
   "cell_type": "code",
   "execution_count": 453,
   "metadata": {},
   "outputs": [],
   "source": [
    "company = WebDriverWait(driver, 20).until(EC.presence_of_element_located((By.ID, \"financials_equities_companyName\")))\n",
    "period_ended = WebDriverWait(driver, 20).until(EC.presence_of_element_located((By.ID, \"financials_equities_period\")))\n",
    "# company = driver.find_element(By.ID, \"financials_equities_companyName\")\n",
    "# period_ended = driver.find_element(By.ID, \"financials_equities_period\")\n",
    "# time.sleep(1)"
   ]
  },
  {
   "cell_type": "code",
   "execution_count": 454,
   "metadata": {},
   "outputs": [],
   "source": [
    "# for option in period_ended.find_elements(By.TAG_NAME, \"option\"):\n",
    "#     if option.text == \"Annual\":\n",
    "#         option.click()\n",
    "#         break\n",
    "\n",
    "# company.send_keys(\"RELIANCE\")\n",
    "# # TODO: briefly wait for the autocomplete to appear\n",
    "# WebDriverWait(driver, 10).until(EC.presence_of_element_located((By.CLASS_NAME, \"lt\")))\n",
    "# company.send_keys(Keys.ARROW_DOWN)\n",
    "# company.send_keys(Keys.ENTER)\n",
    "\n",
    "# # # Click the download link\n",
    "# # download_csv = WebDriverWait(driver, 20).until(EC.presence_of_element_located((By.ID, \"CFfinancialequity-download\")))\n",
    "# # download_csv.click()\n",
    "custom_date = WebDriverWait(driver, 20).until(EC.element_to_be_clickable((By.XPATH, \"//a[@href='JavaScript:;' and @data-val='Custom']\")))\n",
    "custom_date.click()\n",
    "buttons = WebDriverWait(driver, 20).until(EC.presence_of_all_elements_located((By.CSS_SELECTOR, \"button.btn.btn-outline-secondary.border-left-0\")))\n",
    "from_date_button = buttons[0]\n",
    "# from_date_button.click()\n",
    "\n",
    "\n",
    "# choosing the date\n",
    "period_div = WebDriverWait(driver, 20).until(EC.element_to_be_clickable((By.CSS_SELECTOR, 'div[data-role=\"period\"]')))\n",
    "time.sleep(1)\n",
    "period_div.click()\n",
    "# period_div.click()\n",
    "# period_div.click()\n",
    "\n",
    "# Replace 'driver' with your WebDriver instance\n",
    "wait = WebDriverWait(driver, 10)\n",
    "chevron_div = wait.until(EC.presence_of_element_located((By.CSS_SELECTOR, 'div > i.fa.fa-chevron-left')))\n",
    "chevron_div_parent = chevron_div.find_element(By.XPATH, '..')\n",
    "\n",
    "# Click the parent div\n",
    "for i in range(24):\n",
    "    chevron_div_parent.click()\n",
    "\n",
    "\n",
    "    \n",
    "# Check the month and the date\n",
    "wait = WebDriverWait(driver, 10)\n",
    "\n",
    "# Find the <div> element with the text \"Jan\"\n",
    "jan_div = wait.until(EC.presence_of_element_located((By.XPATH, '//table//tbody/tr/td/div[@role=\"button\" and text()=\"Jan\"]')))\n",
    "\n",
    "# Click the \"Jan\" <div> element\n",
    "jan_div.click()\n",
    "\n",
    "\n",
    "wait = WebDriverWait(driver, 10)\n",
    "\n",
    "# Find the <div> element with the text \"1\"\n",
    "day_one_div = wait.until(EC.presence_of_element_located((By.XPATH, '//table//tbody/tr/td/div[@role=\"button\" and text()=\"1\"]')))\n",
    "\n",
    "# Click the \"1\" <div> element\n",
    "day_one_div.click()\n",
    "\n",
    "time.sleep(0.2)\n",
    "# to_date_button = buttons[1]\n",
    "# to_date_button.click()\n",
    "# driver.quit()"
   ]
  },
  {
   "cell_type": "code",
   "execution_count": 455,
   "metadata": {},
   "outputs": [],
   "source": [
    "# driver.quit()"
   ]
  },
  {
   "cell_type": "markdown",
   "metadata": {},
   "source": []
  },
  {
   "cell_type": "code",
   "execution_count": null,
   "metadata": {},
   "outputs": [],
   "source": []
  }
 ],
 "metadata": {
  "kernelspec": {
   "display_name": "stuff",
   "language": "python",
   "name": "python3"
  },
  "language_info": {
   "codemirror_mode": {
    "name": "ipython",
    "version": 3
   },
   "file_extension": ".py",
   "mimetype": "text/x-python",
   "name": "python",
   "nbconvert_exporter": "python",
   "pygments_lexer": "ipython3",
   "version": "3.11.5"
  }
 },
 "nbformat": 4,
 "nbformat_minor": 2
}
