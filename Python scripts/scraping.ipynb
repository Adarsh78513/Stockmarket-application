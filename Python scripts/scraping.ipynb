{
 "cells": [
  {
   "cell_type": "code",
   "execution_count": 1,
   "metadata": {},
   "outputs": [],
   "source": [
    "from selenium import webdriver\n",
    "from selenium.webdriver.common.by import By\n",
    "from selenium.webdriver.common.keys import Keys\n",
    "from selenium.webdriver.support.ui import WebDriverWait\n",
    "from selenium.webdriver.support import expected_conditions as EC\n",
    "from selenium.webdriver.common.action_chains import ActionChains\n",
    "import time\n",
    "import os\n",
    "\n",
    "\n",
    "# Set up the driver\n",
    "os.environ['PATH'] += r'C:\\Selenium drivers\\chromedriver-win64\\chromedriver-win64'\n",
    "driver = webdriver.Chrome()"
   ]
  },
  {
   "cell_type": "code",
   "execution_count": 2,
   "metadata": {},
   "outputs": [],
   "source": [
    "driver.get('https://www.nseindia.com/companies-listing/corporate-filings-financial-results')\n",
    "new_session = True"
   ]
  },
  {
   "cell_type": "code",
   "execution_count": 3,
   "metadata": {},
   "outputs": [
    {
     "name": "stdout",
     "output_type": "stream",
     "text": [
      "Companies in nse as of 23-May-2024 are 1730\n",
      "First company AUSOMENT\n"
     ]
    }
   ],
   "source": [
    "# All the companies in NSE\n",
    "import pandas as pd\n",
    "df = pd.read_csv('../src/nse.csv')\n",
    "with open('../src/info.txt', 'r') as file:\n",
    "    date = file.read()\n",
    "print(\"Companies in nse as of\" , date ,\"are\", len(df['SYMBOL \\n']))\n",
    "# Delete every column of the dataframe except the symbol\n",
    "df = df['SYMBOL \\n']\n",
    "print(\"First company\", df[0])"
   ]
  },
  {
   "cell_type": "code",
   "execution_count": 4,
   "metadata": {},
   "outputs": [],
   "source": [
    "\n",
    "def select_custom_date():\n",
    "    custom_date = WebDriverWait(driver, 20).until(EC.element_to_be_clickable((By.XPATH, \"//a[@href='JavaScript:;' and @data-val='Custom']\")))\n",
    "    custom_date.click()\n",
    "    buttons = WebDriverWait(driver, 20).until(EC.presence_of_all_elements_located((By.CSS_SELECTOR, \"button.btn.btn-outline-secondary.border-left-0\")))\n",
    "    from_date_button = buttons[0]\n",
    "    # from_date_button.click()\n",
    "\n",
    "\n",
    "    # choosing the date\n",
    "    period_div = WebDriverWait(driver, 20).until(EC.element_to_be_clickable((By.CSS_SELECTOR, 'div[data-role=\"period\"]')))\n",
    "    time.sleep(1)\n",
    "    period_div.click()\n",
    "    # period_div.click()\n",
    "    # period_div.click()\n",
    "\n",
    "    # Replace 'driver' with your WebDriver instance\n",
    "    wait = WebDriverWait(driver, 10)\n",
    "    chevron_div = wait.until(EC.presence_of_element_located((By.CSS_SELECTOR, 'div > i.fa.fa-chevron-left')))\n",
    "    chevron_div_parent = chevron_div.find_element(By.XPATH, '..')\n",
    "\n",
    "    # Click the parent div\n",
    "    for i in range(24):\n",
    "        chevron_div_parent.click()\n",
    "\n",
    "\n",
    "    # Check the month and the date\n",
    "    wait = WebDriverWait(driver, 10)\n",
    "\n",
    "    # Find the <div> element with the text \"Jan\"\n",
    "    jan_div = wait.until(EC.presence_of_element_located((By.XPATH, '//table//tbody/tr/td/div[@role=\"button\" and text()=\"Jan\"]')))\n",
    "\n",
    "    # Click the \"Jan\" <div> element\n",
    "    jan_div.click()\n",
    "\n",
    "\n",
    "    wait = WebDriverWait(driver, 20)\n",
    "\n",
    "    # Find the <div> element with the text \"1\"\n",
    "    day_one_div = wait.until(EC.presence_of_element_located((By.XPATH, '//table//tbody/tr/td/div[@role=\"button\" and text()=\"1\"]')))\n",
    "\n",
    "    # Click the \"1\" <div> element\n",
    "    day_one_div.click()\n",
    "\n",
    "    time.sleep(0.2)\n",
    "    # get today's date\n",
    "    today_year = time.strftime(\"%Y\")\n",
    "    today_month_ = time.strftime(\"%m\")\n",
    "    month_name = {\n",
    "        '01': 'Jan',\n",
    "        '02': 'Feb',\n",
    "        '03': 'Mar',\n",
    "        '04': 'Apr',\n",
    "        '05': 'May',\n",
    "        '06': 'Jun',\n",
    "        '07': 'Jul',\n",
    "        '08': 'Aug',\n",
    "        '09': 'Sep',\n",
    "        '10': 'Oct',\n",
    "        '11': 'Nov',\n",
    "        '12': 'Dec'\n",
    "    }\n",
    "    today_month = month_name[today_month_]\n",
    "    today_day = time.strftime(\"%d\")\n",
    "\n",
    "    print(today_year, today_month, today_day)\n",
    "\n",
    "    to_date_button = buttons[1]\n",
    "    to_date_button.click()\n",
    "    # Find the <div> element with the text \"today_day\"\n",
    "    time.sleep(1)\n",
    "    wait = WebDriverWait(driver, 10)\n",
    "\n",
    "    # Find the second <div> element with the text \"1\" - date 1\n",
    "    day_two_divs = wait.until(EC.presence_of_all_elements_located((By.XPATH, '//table//tbody/tr/td[@class=\"current-month gj-cursor-pointer\"]/div[@role=\"button\" and text()=\"1\"]')))\n",
    "    if len(day_two_divs) >= 2:\n",
    "        second_day_two_div = day_two_divs[1]\n",
    "        second_day_two_div.click()\n",
    "    else:\n",
    "        print(\"Less than two '2' elements found.\")\n",
    "        second_day_two_div = day_two_divs[0]\n",
    "        second_day_two_div.click()\n",
    "    \n",
    "    print(\"here\")\n",
    "    time.sleep(1)\n",
    "    go_button = driver.find_element(By.XPATH, '//button[@class=\"btn flat-button-white w-100 filterbtn\" and text()=\"GO\"]')\n",
    "    # go_button = wait.until(EC.presence_of_element_located((By.XPATH, '//button[@class=\"btn flat-button-white w-100 filterbtn active\"]')))\n",
    "    go_button.click()\n",
    "    "
   ]
  },
  {
   "cell_type": "code",
   "execution_count": 5,
   "metadata": {},
   "outputs": [],
   "source": [
    "def company_data_download(company_name, new_session):\n",
    "    company = WebDriverWait(driver, 20).until(EC.presence_of_element_located((By.ID, \"financials_equities_companyName\")))\n",
    "    period_ended = WebDriverWait(driver, 20).until(EC.presence_of_element_located((By.ID, \"financials_equities_period\")))\n",
    "    \n",
    "    # for option in period_ended.find_elements(By.TAG_NAME, \"option\"):\n",
    "    #     if option.text == \"Annual\":\n",
    "    #         option.click()\n",
    "    #         break\n",
    "    time.sleep(3)\n",
    "    \n",
    "    # company.clear()\n",
    "    for i in range(100):\n",
    "        company.send_keys(Keys.BACKSPACE)\n",
    "        company.send_keys(Keys.DELETE)\n",
    "    time.sleep(1)\n",
    "    company.send_keys(company_name)\n",
    "    # TODO: briefly wait for the autocomplete to appear\n",
    "    WebDriverWait(driver, 10).until(EC.presence_of_element_located((By.CLASS_NAME, \"lt\")))\n",
    "    company.send_keys(Keys.ARROW_DOWN)\n",
    "    company.send_keys(Keys.ENTER)\n",
    "    \n",
    "    if new_session:\n",
    "        select_custom_date()\n",
    "    \n",
    "    # Click the download link\n",
    "    time.sleep(3)\n",
    "    download_csv = WebDriverWait(driver, 20).until(EC.presence_of_element_located((By.ID, \"CFfinancialequity-download\")))\n",
    "    download_csv.click()"
   ]
  },
  {
   "cell_type": "code",
   "execution_count": 6,
   "metadata": {},
   "outputs": [
    {
     "ename": "TimeoutException",
     "evalue": "Message: \nStacktrace:\n\tGetHandleVerifier [0x00007FF6EBCF1F52+60322]\n\t(No symbol) [0x00007FF6EBC6CEC9]\n\t(No symbol) [0x00007FF6EBB27EBA]\n\t(No symbol) [0x00007FF6EBB77676]\n\t(No symbol) [0x00007FF6EBB7773C]\n\t(No symbol) [0x00007FF6EBBBE967]\n\t(No symbol) [0x00007FF6EBB9C25F]\n\t(No symbol) [0x00007FF6EBBBBC80]\n\t(No symbol) [0x00007FF6EBB9BFC3]\n\t(No symbol) [0x00007FF6EBB69617]\n\t(No symbol) [0x00007FF6EBB6A211]\n\tGetHandleVerifier [0x00007FF6EC00949D+3301613]\n\tGetHandleVerifier [0x00007FF6EC0536C3+3605267]\n\tGetHandleVerifier [0x00007FF6EC049440+3563664]\n\tGetHandleVerifier [0x00007FF6EBDA4326+790390]\n\t(No symbol) [0x00007FF6EBC7750F]\n\t(No symbol) [0x00007FF6EBC73404]\n\t(No symbol) [0x00007FF6EBC73592]\n\t(No symbol) [0x00007FF6EBC62F9F]\n\tBaseThreadInitThunk [0x00007FFD2CBB257D+29]\n\tRtlUserThreadStart [0x00007FFD2DC4AA48+40]\n",
     "output_type": "error",
     "traceback": [
      "\u001b[1;31m---------------------------------------------------------------------------\u001b[0m",
      "\u001b[1;31mTimeoutException\u001b[0m                          Traceback (most recent call last)",
      "Cell \u001b[1;32mIn[6], line 8\u001b[0m\n\u001b[0;32m      6\u001b[0m     \u001b[38;5;28;01mif\u001b[39;00m symbol \u001b[38;5;129;01min\u001b[39;00m file\u001b[38;5;241m.\u001b[39mread():\n\u001b[0;32m      7\u001b[0m         \u001b[38;5;28;01mcontinue\u001b[39;00m\n\u001b[1;32m----> 8\u001b[0m \u001b[43mcompany_data_download\u001b[49m\u001b[43m(\u001b[49m\u001b[43msymbol\u001b[49m\u001b[43m,\u001b[49m\u001b[43m \u001b[49m\u001b[43mnew_session\u001b[49m\u001b[43m)\u001b[49m\n\u001b[0;32m      9\u001b[0m new_session \u001b[38;5;241m=\u001b[39m \u001b[38;5;28;01mFalse\u001b[39;00m\n\u001b[0;32m     10\u001b[0m \u001b[38;5;28;01mwith\u001b[39;00m \u001b[38;5;28mopen\u001b[39m(\u001b[38;5;124m'\u001b[39m\u001b[38;5;124m../src/downloaded_companies.txt\u001b[39m\u001b[38;5;124m'\u001b[39m, \u001b[38;5;124m'\u001b[39m\u001b[38;5;124ma\u001b[39m\u001b[38;5;124m'\u001b[39m) \u001b[38;5;28;01mas\u001b[39;00m file:\n",
      "Cell \u001b[1;32mIn[5], line 18\u001b[0m, in \u001b[0;36mcompany_data_download\u001b[1;34m(company_name, new_session)\u001b[0m\n\u001b[0;32m     16\u001b[0m company\u001b[38;5;241m.\u001b[39msend_keys(company_name)\n\u001b[0;32m     17\u001b[0m \u001b[38;5;66;03m# TODO: briefly wait for the autocomplete to appear\u001b[39;00m\n\u001b[1;32m---> 18\u001b[0m \u001b[43mWebDriverWait\u001b[49m\u001b[43m(\u001b[49m\u001b[43mdriver\u001b[49m\u001b[43m,\u001b[49m\u001b[43m \u001b[49m\u001b[38;5;241;43m10\u001b[39;49m\u001b[43m)\u001b[49m\u001b[38;5;241;43m.\u001b[39;49m\u001b[43muntil\u001b[49m\u001b[43m(\u001b[49m\u001b[43mEC\u001b[49m\u001b[38;5;241;43m.\u001b[39;49m\u001b[43mpresence_of_element_located\u001b[49m\u001b[43m(\u001b[49m\u001b[43m(\u001b[49m\u001b[43mBy\u001b[49m\u001b[38;5;241;43m.\u001b[39;49m\u001b[43mCLASS_NAME\u001b[49m\u001b[43m,\u001b[49m\u001b[43m \u001b[49m\u001b[38;5;124;43m\"\u001b[39;49m\u001b[38;5;124;43mlt\u001b[39;49m\u001b[38;5;124;43m\"\u001b[39;49m\u001b[43m)\u001b[49m\u001b[43m)\u001b[49m\u001b[43m)\u001b[49m\n\u001b[0;32m     19\u001b[0m company\u001b[38;5;241m.\u001b[39msend_keys(Keys\u001b[38;5;241m.\u001b[39mARROW_DOWN)\n\u001b[0;32m     20\u001b[0m company\u001b[38;5;241m.\u001b[39msend_keys(Keys\u001b[38;5;241m.\u001b[39mENTER)\n",
      "File \u001b[1;32mc:\\Users\\adrsr\\anaconda3\\envs\\stuff\\Lib\\site-packages\\selenium\\webdriver\\support\\wait.py:105\u001b[0m, in \u001b[0;36mWebDriverWait.until\u001b[1;34m(self, method, message)\u001b[0m\n\u001b[0;32m    103\u001b[0m     \u001b[38;5;28;01mif\u001b[39;00m time\u001b[38;5;241m.\u001b[39mmonotonic() \u001b[38;5;241m>\u001b[39m end_time:\n\u001b[0;32m    104\u001b[0m         \u001b[38;5;28;01mbreak\u001b[39;00m\n\u001b[1;32m--> 105\u001b[0m \u001b[38;5;28;01mraise\u001b[39;00m TimeoutException(message, screen, stacktrace)\n",
      "\u001b[1;31mTimeoutException\u001b[0m: Message: \nStacktrace:\n\tGetHandleVerifier [0x00007FF6EBCF1F52+60322]\n\t(No symbol) [0x00007FF6EBC6CEC9]\n\t(No symbol) [0x00007FF6EBB27EBA]\n\t(No symbol) [0x00007FF6EBB77676]\n\t(No symbol) [0x00007FF6EBB7773C]\n\t(No symbol) [0x00007FF6EBBBE967]\n\t(No symbol) [0x00007FF6EBB9C25F]\n\t(No symbol) [0x00007FF6EBBBBC80]\n\t(No symbol) [0x00007FF6EBB9BFC3]\n\t(No symbol) [0x00007FF6EBB69617]\n\t(No symbol) [0x00007FF6EBB6A211]\n\tGetHandleVerifier [0x00007FF6EC00949D+3301613]\n\tGetHandleVerifier [0x00007FF6EC0536C3+3605267]\n\tGetHandleVerifier [0x00007FF6EC049440+3563664]\n\tGetHandleVerifier [0x00007FF6EBDA4326+790390]\n\t(No symbol) [0x00007FF6EBC7750F]\n\t(No symbol) [0x00007FF6EBC73404]\n\t(No symbol) [0x00007FF6EBC73592]\n\t(No symbol) [0x00007FF6EBC62F9F]\n\tBaseThreadInitThunk [0x00007FFD2CBB257D+29]\n\tRtlUserThreadStart [0x00007FFD2DC4AA48+40]\n"
     ]
    }
   ],
   "source": [
    "# make a new text file to store the companies that have been downloaded\n",
    "count = 0\n",
    "for symbol in df:\n",
    "    # if symbol already exists in the downloaded_companies.txt file, skip it\n",
    "    with open('../src/downloaded_companies.txt', 'r') as file:\n",
    "        if symbol in file.read():\n",
    "            continue\n",
    "    company_data_download(symbol, new_session)\n",
    "    new_session = False\n",
    "    with open('../src/downloaded_companies.txt', 'a') as file:\n",
    "        file.write(symbol + '\\n')\n",
    "    time.sleep(3)\n",
    "    count += 1\n",
    "\n",
    "print(\"Downloaded\", count, \"companies\")"
   ]
  },
  {
   "cell_type": "code",
   "execution_count": null,
   "metadata": {},
   "outputs": [],
   "source": [
    "driver.quit()"
   ]
  }
 ],
 "metadata": {
  "kernelspec": {
   "display_name": "stuff",
   "language": "python",
   "name": "python3"
  },
  "language_info": {
   "codemirror_mode": {
    "name": "ipython",
    "version": 3
   },
   "file_extension": ".py",
   "mimetype": "text/x-python",
   "name": "python",
   "nbconvert_exporter": "python",
   "pygments_lexer": "ipython3",
   "version": "3.11.5"
  }
 },
 "nbformat": 4,
 "nbformat_minor": 2
}
