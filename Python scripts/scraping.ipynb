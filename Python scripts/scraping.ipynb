{
 "cells": [
  {
   "cell_type": "code",
   "execution_count": 124,
   "metadata": {},
   "outputs": [],
   "source": [
    "from selenium import webdriver\n",
    "from selenium.webdriver.common.by import By\n",
    "from selenium.webdriver.common.keys import Keys\n",
    "from selenium.webdriver.support.ui import WebDriverWait\n",
    "from selenium.webdriver.support import expected_conditions as EC\n",
    "import time\n",
    "import os\n",
    "\n",
    "\n",
    "# Set up the driver\n",
    "os.environ['PATH'] += r'C:\\Selenium drivers\\chromedriver-win64\\chromedriver-win64'\n",
    "driver = webdriver.Chrome()"
   ]
  },
  {
   "cell_type": "code",
   "execution_count": 125,
   "metadata": {},
   "outputs": [],
   "source": [
    "driver.get('https://www.nseindia.com/companies-listing/corporate-filings-financial-results')\n",
    "new_session = True"
   ]
  },
  {
   "cell_type": "code",
   "execution_count": 126,
   "metadata": {},
   "outputs": [
    {
     "name": "stdout",
     "output_type": "stream",
     "text": [
      "Companies in nse as of 23-May-2024 are 1730\n",
      "First company AUSOMENT\n"
     ]
    }
   ],
   "source": [
    "# All the companies in NSE\n",
    "import pandas as pd\n",
    "df = pd.read_csv('../src/nse.csv')\n",
    "with open('../src/info.txt', 'r') as file:\n",
    "    date = file.read()\n",
    "print(\"Companies in nse as of\" , date ,\"are\", len(df['SYMBOL \\n']))\n",
    "# Delete every column of the dataframe except the symbol\n",
    "df = df['SYMBOL \\n']\n",
    "print(\"First company\", df[0])"
   ]
  },
  {
   "cell_type": "code",
   "execution_count": 127,
   "metadata": {},
   "outputs": [],
   "source": [
    "\n",
    "def select_custom_date():\n",
    "    custom_date = WebDriverWait(driver, 20).until(EC.element_to_be_clickable((By.XPATH, \"//a[@href='JavaScript:;' and @data-val='Custom']\")))\n",
    "    custom_date.click()\n",
    "    buttons = WebDriverWait(driver, 20).until(EC.presence_of_all_elements_located((By.CSS_SELECTOR, \"button.btn.btn-outline-secondary.border-left-0\")))\n",
    "    from_date_button = buttons[0]\n",
    "    # from_date_button.click()\n",
    "\n",
    "\n",
    "    # choosing the date\n",
    "    period_div = WebDriverWait(driver, 20).until(EC.element_to_be_clickable((By.CSS_SELECTOR, 'div[data-role=\"period\"]')))\n",
    "    time.sleep(1)\n",
    "    period_div.click()\n",
    "    # period_div.click()\n",
    "    # period_div.click()\n",
    "\n",
    "    # Replace 'driver' with your WebDriver instance\n",
    "    wait = WebDriverWait(driver, 10)\n",
    "    chevron_div = wait.until(EC.presence_of_element_located((By.CSS_SELECTOR, 'div > i.fa.fa-chevron-left')))\n",
    "    chevron_div_parent = chevron_div.find_element(By.XPATH, '..')\n",
    "\n",
    "    # Click the parent div\n",
    "    for i in range(24):\n",
    "        chevron_div_parent.click()\n",
    "\n",
    "\n",
    "    # Check the month and the date\n",
    "    wait = WebDriverWait(driver, 10)\n",
    "\n",
    "    # Find the <div> element with the text \"Jan\"\n",
    "    jan_div = wait.until(EC.presence_of_element_located((By.XPATH, '//table//tbody/tr/td/div[@role=\"button\" and text()=\"Jan\"]')))\n",
    "\n",
    "    # Click the \"Jan\" <div> element\n",
    "    jan_div.click()\n",
    "\n",
    "\n",
    "    wait = WebDriverWait(driver, 20)\n",
    "\n",
    "    # Find the <div> element with the text \"1\"\n",
    "    day_one_div = wait.until(EC.presence_of_element_located((By.XPATH, '//table//tbody/tr/td/div[@role=\"button\" and text()=\"1\"]')))\n",
    "\n",
    "    # Click the \"1\" <div> element\n",
    "    day_one_div.click()\n",
    "\n",
    "    time.sleep(0.2)\n",
    "    # get today's date\n",
    "    today_year = time.strftime(\"%Y\")\n",
    "    today_month_ = time.strftime(\"%m\")\n",
    "    month_name = {\n",
    "        '01': 'Jan',\n",
    "        '02': 'Feb',\n",
    "        '03': 'Mar',\n",
    "        '04': 'Apr',\n",
    "        '05': 'May',\n",
    "        '06': 'Jun',\n",
    "        '07': 'Jul',\n",
    "        '08': 'Aug',\n",
    "        '09': 'Sep',\n",
    "        '10': 'Oct',\n",
    "        '11': 'Nov',\n",
    "        '12': 'Dec'\n",
    "    }\n",
    "    today_month = month_name[today_month_]\n",
    "    today_day = time.strftime(\"%d\")\n",
    "\n",
    "    print(today_year, today_month, today_day)\n",
    "\n",
    "    to_date_button = buttons[1]\n",
    "    to_date_button.click()\n",
    "    # Find the <div> element with the text \"today_day\"\n",
    "    time.sleep(1)\n",
    "    wait = WebDriverWait(driver, 10)\n",
    "\n",
    "    # Find the second <div> element with the text \"1\" - date 1\n",
    "    day_two_divs = wait.until(EC.presence_of_all_elements_located((By.XPATH, '//table//tbody/tr/td[@class=\"current-month gj-cursor-pointer\"]/div[@role=\"button\" and text()=\"1\"]')))\n",
    "    if len(day_two_divs) >= 2:\n",
    "        second_day_two_div = day_two_divs[1]\n",
    "        second_day_two_div.click()\n",
    "    else:\n",
    "        print(\"Less than two '2' elements found.\")\n",
    "        second_day_two_div = day_two_divs[0]\n",
    "        second_day_two_div.click()\n",
    "    \n",
    "    print(\"here\")\n",
    "    go_button = driver.find_element(By.XPATH, '//button[@class=\"btn flat-button-white w-100 filterbtn\" and text()=\"GO\"]')\n",
    "    # go_button = wait.until(EC.presence_of_element_located((By.XPATH, '//button[@class=\"btn flat-button-white w-100 filterbtn active\"]')))\n",
    "    go_button.click()\n",
    "    "
   ]
  },
  {
   "cell_type": "code",
   "execution_count": 128,
   "metadata": {},
   "outputs": [],
   "source": [
    "def company_data_download(company_name, new_session):\n",
    "    company = WebDriverWait(driver, 20).until(EC.presence_of_element_located((By.ID, \"financials_equities_companyName\")))\n",
    "    period_ended = WebDriverWait(driver, 20).until(EC.presence_of_element_located((By.ID, \"financials_equities_period\")))\n",
    "    \n",
    "    # for option in period_ended.find_elements(By.TAG_NAME, \"option\"):\n",
    "    #     if option.text == \"Annual\":\n",
    "    #         option.click()\n",
    "    #         break\n",
    "    time.sleep(3)\n",
    "    company.send_keys(company_name)\n",
    "    # TODO: briefly wait for the autocomplete to appear\n",
    "    WebDriverWait(driver, 10).until(EC.presence_of_element_located((By.CLASS_NAME, \"lt\")))\n",
    "    company.send_keys(Keys.ARROW_DOWN)\n",
    "    company.send_keys(Keys.ENTER)\n",
    "    \n",
    "    if new_session:\n",
    "        select_custom_date()\n",
    "\n",
    "    # Click the download link\n",
    "    time.sleep(3)\n",
    "    download_csv = WebDriverWait(driver, 20).until(EC.presence_of_element_located((By.ID, \"CFfinancialequity-download\")))\n",
    "    download_csv.click()\n",
    "    "
   ]
  },
  {
   "cell_type": "code",
   "execution_count": 129,
   "metadata": {},
   "outputs": [
    {
     "name": "stdout",
     "output_type": "stream",
     "text": [
      "2024 May 23\n",
      "Less than two '2' elements found.\n",
      "here\n"
     ]
    },
    {
     "ename": "ElementClickInterceptedException",
     "evalue": "Message: element click intercepted: Element <a id=\"CFfinancialequity-download\" data-url=\"\" href=\"javascript:downloadCSV('CFfinancialequity-download')\">...</a> is not clickable at point (78, 650). Other element would receive the click: <span class=\"lt\">...</span>\n  (Session info: chrome=125.0.6422.77)\nStacktrace:\n\tGetHandleVerifier [0x00007FF766C11F52+60322]\n\t(No symbol) [0x00007FF766B8CEC9]\n\t(No symbol) [0x00007FF766A47EBA]\n\t(No symbol) [0x00007FF766A9F32E]\n\t(No symbol) [0x00007FF766A9CCF2]\n\t(No symbol) [0x00007FF766A9A18B]\n\t(No symbol) [0x00007FF766A99356]\n\t(No symbol) [0x00007FF766A8B491]\n\t(No symbol) [0x00007FF766ABC21A]\n\t(No symbol) [0x00007FF766A8ADB6]\n\t(No symbol) [0x00007FF766ABC430]\n\t(No symbol) [0x00007FF766ADBC80]\n\t(No symbol) [0x00007FF766ABBFC3]\n\t(No symbol) [0x00007FF766A89617]\n\t(No symbol) [0x00007FF766A8A211]\n\tGetHandleVerifier [0x00007FF766F2949D+3301613]\n\tGetHandleVerifier [0x00007FF766F736C3+3605267]\n\tGetHandleVerifier [0x00007FF766F69440+3563664]\n\tGetHandleVerifier [0x00007FF766CC4326+790390]\n\t(No symbol) [0x00007FF766B9750F]\n\t(No symbol) [0x00007FF766B93404]\n\t(No symbol) [0x00007FF766B93592]\n\t(No symbol) [0x00007FF766B82F9F]\n\tBaseThreadInitThunk [0x00007FFD2CBB257D+29]\n\tRtlUserThreadStart [0x00007FFD2DC4AA48+40]\n",
     "output_type": "error",
     "traceback": [
      "\u001b[1;31m---------------------------------------------------------------------------\u001b[0m",
      "\u001b[1;31mElementClickInterceptedException\u001b[0m          Traceback (most recent call last)",
      "Cell \u001b[1;32mIn[129], line 8\u001b[0m\n\u001b[0;32m      6\u001b[0m     \u001b[38;5;28;01mif\u001b[39;00m symbol \u001b[38;5;129;01min\u001b[39;00m file\u001b[38;5;241m.\u001b[39mread():\n\u001b[0;32m      7\u001b[0m         \u001b[38;5;28;01mcontinue\u001b[39;00m\n\u001b[1;32m----> 8\u001b[0m \u001b[43mcompany_data_download\u001b[49m\u001b[43m(\u001b[49m\u001b[43msymbol\u001b[49m\u001b[43m,\u001b[49m\u001b[43m \u001b[49m\u001b[43mnew_session\u001b[49m\u001b[43m)\u001b[49m\n\u001b[0;32m      9\u001b[0m new_session \u001b[38;5;241m=\u001b[39m \u001b[38;5;28;01mFalse\u001b[39;00m\n\u001b[0;32m     10\u001b[0m \u001b[38;5;28;01mwith\u001b[39;00m \u001b[38;5;28mopen\u001b[39m(\u001b[38;5;124m'\u001b[39m\u001b[38;5;124m../src/downloaded_companies.txt\u001b[39m\u001b[38;5;124m'\u001b[39m, \u001b[38;5;124m'\u001b[39m\u001b[38;5;124ma\u001b[39m\u001b[38;5;124m'\u001b[39m) \u001b[38;5;28;01mas\u001b[39;00m file:\n",
      "Cell \u001b[1;32mIn[128], line 22\u001b[0m, in \u001b[0;36mcompany_data_download\u001b[1;34m(company_name, new_session)\u001b[0m\n\u001b[0;32m     20\u001b[0m time\u001b[38;5;241m.\u001b[39msleep(\u001b[38;5;241m3\u001b[39m)\n\u001b[0;32m     21\u001b[0m download_csv \u001b[38;5;241m=\u001b[39m WebDriverWait(driver, \u001b[38;5;241m20\u001b[39m)\u001b[38;5;241m.\u001b[39muntil(EC\u001b[38;5;241m.\u001b[39mpresence_of_element_located((By\u001b[38;5;241m.\u001b[39mID, \u001b[38;5;124m\"\u001b[39m\u001b[38;5;124mCFfinancialequity-download\u001b[39m\u001b[38;5;124m\"\u001b[39m)))\n\u001b[1;32m---> 22\u001b[0m \u001b[43mdownload_csv\u001b[49m\u001b[38;5;241;43m.\u001b[39;49m\u001b[43mclick\u001b[49m\u001b[43m(\u001b[49m\u001b[43m)\u001b[49m\n",
      "File \u001b[1;32mc:\\Users\\adrsr\\anaconda3\\envs\\stuff\\Lib\\site-packages\\selenium\\webdriver\\remote\\webelement.py:94\u001b[0m, in \u001b[0;36mWebElement.click\u001b[1;34m(self)\u001b[0m\n\u001b[0;32m     92\u001b[0m \u001b[38;5;28;01mdef\u001b[39;00m \u001b[38;5;21mclick\u001b[39m(\u001b[38;5;28mself\u001b[39m) \u001b[38;5;241m-\u001b[39m\u001b[38;5;241m>\u001b[39m \u001b[38;5;28;01mNone\u001b[39;00m:\n\u001b[0;32m     93\u001b[0m \u001b[38;5;250m    \u001b[39m\u001b[38;5;124;03m\"\"\"Clicks the element.\"\"\"\u001b[39;00m\n\u001b[1;32m---> 94\u001b[0m     \u001b[38;5;28;43mself\u001b[39;49m\u001b[38;5;241;43m.\u001b[39;49m\u001b[43m_execute\u001b[49m\u001b[43m(\u001b[49m\u001b[43mCommand\u001b[49m\u001b[38;5;241;43m.\u001b[39;49m\u001b[43mCLICK_ELEMENT\u001b[49m\u001b[43m)\u001b[49m\n",
      "File \u001b[1;32mc:\\Users\\adrsr\\anaconda3\\envs\\stuff\\Lib\\site-packages\\selenium\\webdriver\\remote\\webelement.py:395\u001b[0m, in \u001b[0;36mWebElement._execute\u001b[1;34m(self, command, params)\u001b[0m\n\u001b[0;32m    393\u001b[0m     params \u001b[38;5;241m=\u001b[39m {}\n\u001b[0;32m    394\u001b[0m params[\u001b[38;5;124m\"\u001b[39m\u001b[38;5;124mid\u001b[39m\u001b[38;5;124m\"\u001b[39m] \u001b[38;5;241m=\u001b[39m \u001b[38;5;28mself\u001b[39m\u001b[38;5;241m.\u001b[39m_id\n\u001b[1;32m--> 395\u001b[0m \u001b[38;5;28;01mreturn\u001b[39;00m \u001b[38;5;28;43mself\u001b[39;49m\u001b[38;5;241;43m.\u001b[39;49m\u001b[43m_parent\u001b[49m\u001b[38;5;241;43m.\u001b[39;49m\u001b[43mexecute\u001b[49m\u001b[43m(\u001b[49m\u001b[43mcommand\u001b[49m\u001b[43m,\u001b[49m\u001b[43m \u001b[49m\u001b[43mparams\u001b[49m\u001b[43m)\u001b[49m\n",
      "File \u001b[1;32mc:\\Users\\adrsr\\anaconda3\\envs\\stuff\\Lib\\site-packages\\selenium\\webdriver\\remote\\webdriver.py:348\u001b[0m, in \u001b[0;36mWebDriver.execute\u001b[1;34m(self, driver_command, params)\u001b[0m\n\u001b[0;32m    346\u001b[0m response \u001b[38;5;241m=\u001b[39m \u001b[38;5;28mself\u001b[39m\u001b[38;5;241m.\u001b[39mcommand_executor\u001b[38;5;241m.\u001b[39mexecute(driver_command, params)\n\u001b[0;32m    347\u001b[0m \u001b[38;5;28;01mif\u001b[39;00m response:\n\u001b[1;32m--> 348\u001b[0m     \u001b[38;5;28;43mself\u001b[39;49m\u001b[38;5;241;43m.\u001b[39;49m\u001b[43merror_handler\u001b[49m\u001b[38;5;241;43m.\u001b[39;49m\u001b[43mcheck_response\u001b[49m\u001b[43m(\u001b[49m\u001b[43mresponse\u001b[49m\u001b[43m)\u001b[49m\n\u001b[0;32m    349\u001b[0m     response[\u001b[38;5;124m\"\u001b[39m\u001b[38;5;124mvalue\u001b[39m\u001b[38;5;124m\"\u001b[39m] \u001b[38;5;241m=\u001b[39m \u001b[38;5;28mself\u001b[39m\u001b[38;5;241m.\u001b[39m_unwrap_value(response\u001b[38;5;241m.\u001b[39mget(\u001b[38;5;124m\"\u001b[39m\u001b[38;5;124mvalue\u001b[39m\u001b[38;5;124m\"\u001b[39m, \u001b[38;5;28;01mNone\u001b[39;00m))\n\u001b[0;32m    350\u001b[0m     \u001b[38;5;28;01mreturn\u001b[39;00m response\n",
      "File \u001b[1;32mc:\\Users\\adrsr\\anaconda3\\envs\\stuff\\Lib\\site-packages\\selenium\\webdriver\\remote\\errorhandler.py:229\u001b[0m, in \u001b[0;36mErrorHandler.check_response\u001b[1;34m(self, response)\u001b[0m\n\u001b[0;32m    227\u001b[0m         alert_text \u001b[38;5;241m=\u001b[39m value[\u001b[38;5;124m\"\u001b[39m\u001b[38;5;124malert\u001b[39m\u001b[38;5;124m\"\u001b[39m]\u001b[38;5;241m.\u001b[39mget(\u001b[38;5;124m\"\u001b[39m\u001b[38;5;124mtext\u001b[39m\u001b[38;5;124m\"\u001b[39m)\n\u001b[0;32m    228\u001b[0m     \u001b[38;5;28;01mraise\u001b[39;00m exception_class(message, screen, stacktrace, alert_text)  \u001b[38;5;66;03m# type: ignore[call-arg]  # mypy is not smart enough here\u001b[39;00m\n\u001b[1;32m--> 229\u001b[0m \u001b[38;5;28;01mraise\u001b[39;00m exception_class(message, screen, stacktrace)\n",
      "\u001b[1;31mElementClickInterceptedException\u001b[0m: Message: element click intercepted: Element <a id=\"CFfinancialequity-download\" data-url=\"\" href=\"javascript:downloadCSV('CFfinancialequity-download')\">...</a> is not clickable at point (78, 650). Other element would receive the click: <span class=\"lt\">...</span>\n  (Session info: chrome=125.0.6422.77)\nStacktrace:\n\tGetHandleVerifier [0x00007FF766C11F52+60322]\n\t(No symbol) [0x00007FF766B8CEC9]\n\t(No symbol) [0x00007FF766A47EBA]\n\t(No symbol) [0x00007FF766A9F32E]\n\t(No symbol) [0x00007FF766A9CCF2]\n\t(No symbol) [0x00007FF766A9A18B]\n\t(No symbol) [0x00007FF766A99356]\n\t(No symbol) [0x00007FF766A8B491]\n\t(No symbol) [0x00007FF766ABC21A]\n\t(No symbol) [0x00007FF766A8ADB6]\n\t(No symbol) [0x00007FF766ABC430]\n\t(No symbol) [0x00007FF766ADBC80]\n\t(No symbol) [0x00007FF766ABBFC3]\n\t(No symbol) [0x00007FF766A89617]\n\t(No symbol) [0x00007FF766A8A211]\n\tGetHandleVerifier [0x00007FF766F2949D+3301613]\n\tGetHandleVerifier [0x00007FF766F736C3+3605267]\n\tGetHandleVerifier [0x00007FF766F69440+3563664]\n\tGetHandleVerifier [0x00007FF766CC4326+790390]\n\t(No symbol) [0x00007FF766B9750F]\n\t(No symbol) [0x00007FF766B93404]\n\t(No symbol) [0x00007FF766B93592]\n\t(No symbol) [0x00007FF766B82F9F]\n\tBaseThreadInitThunk [0x00007FFD2CBB257D+29]\n\tRtlUserThreadStart [0x00007FFD2DC4AA48+40]\n"
     ]
    }
   ],
   "source": [
    "# make a new text file to store the companies that have been downloaded\n",
    "count = 0\n",
    "for symbol in df:\n",
    "    # if symbol already exists in the downloaded_companies.txt file, skip it\n",
    "    with open('../src/downloaded_companies.txt', 'r') as file:\n",
    "        if symbol in file.read():\n",
    "            continue\n",
    "    company_data_download(symbol, new_session)\n",
    "    new_session = False\n",
    "    with open('../src/downloaded_companies.txt', 'a') as file:\n",
    "        file.write(symbol + '\\n')\n",
    "    time.sleep(1)\n",
    "    count += 1\n",
    "\n",
    "print(\"Downloaded\", count, \"companies\")"
   ]
  },
  {
   "cell_type": "code",
   "execution_count": null,
   "metadata": {},
   "outputs": [],
   "source": [
    "driver.quit()"
   ]
  }
 ],
 "metadata": {
  "kernelspec": {
   "display_name": "stuff",
   "language": "python",
   "name": "python3"
  },
  "language_info": {
   "codemirror_mode": {
    "name": "ipython",
    "version": 3
   },
   "file_extension": ".py",
   "mimetype": "text/x-python",
   "name": "python",
   "nbconvert_exporter": "python",
   "pygments_lexer": "ipython3",
   "version": "3.11.5"
  }
 },
 "nbformat": 4,
 "nbformat_minor": 2
}
